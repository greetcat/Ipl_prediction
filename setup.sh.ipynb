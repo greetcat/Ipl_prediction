{
 "cells": [
  {
   "cell_type": "code",
   "execution_count": 2,
   "id": "6b452fa9",
   "metadata": {},
   "outputs": [],
   "source": [
    "import os\n",
    "\n",
    "# Create the ~/.streamlit directory if it doesn't exist\n",
    "streamlit_config_dir = os.path.expanduser(\"~/.streamlit\")\n",
    "os.makedirs(streamlit_config_dir, exist_ok=True)\n",
    "\n",
    "# Define the contents of the Streamlit configuration file\n",
    "config_contents = \"\"\"\n",
    "[server]\n",
    "port = $PORT\n",
    "enableCORS = false\n",
    "headless = true\n",
    "\"\"\"\n",
    "\n",
    "# Write the contents to the config file\n",
    "config_file_path = os.path.join(streamlit_config_dir, \"config.toml\")\n",
    "with open(config_file_path, \"w\") as f:\n",
    "    f.write(config_contents)\n"
   ]
  },
  {
   "cell_type": "code",
   "execution_count": null,
   "id": "1c453a81",
   "metadata": {},
   "outputs": [],
   "source": []
  }
 ],
 "metadata": {
  "kernelspec": {
   "display_name": "Python 3 (ipykernel)",
   "language": "python",
   "name": "python3"
  },
  "language_info": {
   "codemirror_mode": {
    "name": "ipython",
    "version": 3
   },
   "file_extension": ".py",
   "mimetype": "text/x-python",
   "name": "python",
   "nbconvert_exporter": "python",
   "pygments_lexer": "ipython3",
   "version": "3.11.1"
  }
 },
 "nbformat": 4,
 "nbformat_minor": 5
}
