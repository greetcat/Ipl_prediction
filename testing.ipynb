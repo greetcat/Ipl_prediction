{
 "cells": [
  {
   "cell_type": "code",
   "execution_count": 2,
   "id": "a164bdb9",
   "metadata": {},
   "outputs": [
    {
     "name": "stdout",
     "output_type": "stream",
     "text": [
      "Batting Team: Chennai Super Kings\n",
      "Bowling Team: Chennai Super Kings\n"
     ]
    }
   ],
   "source": [
    "\n",
    "import pandas as pd\n",
    "import streamlit as st\n",
    "import pickle\n",
    "\n",
    "st.title('IPL WIN PREDICTOR')\n",
    "teams = ['Royal Challengers Bangalore',\n",
    " 'Kings XI Punjab',\n",
    " 'Mumbai Indians',\n",
    " 'Kolkata Knight Riders',\n",
    " 'Rajasthan Royals',\n",
    " 'Chennai Super Kings',\n",
    " 'Sunrisers Hyderabad',\n",
    " 'Delhi Capitals']\n",
    "\n",
    "venue = [\n",
    "        'Feroz Shah Kotla',\n",
    "       'Wankhede Stadium', 'Eden Gardens', 'Sawai Mansingh Stadium',\n",
    "       'Rajiv Gandhi International Stadium, Uppal',\n",
    "       'MA Chidambaram Stadium, Chepauk', 'Dr DY Patil Sports Academy',\n",
    "       'Newlands', \"St George's Park\", 'Kingsmead', 'SuperSport Park',\n",
    "       'Buffalo Park', 'New Wanderers Stadium', 'De Beers Diamond Oval',\n",
    "       'OUTsurance Oval', 'Brabourne Stadium',\n",
    "       'Sardar Patel Stadium, Motera', 'Barabati Stadium',\n",
    "       'Vidarbha Cricket Association Stadium, Jamtha',\n",
    "       'Himachal Pradesh Cricket Association Stadium',\n",
    "       'Dr. Y.S. Rajasekhara Reddy ACA-VDCA Cricket Stadium',\n",
    "       'Subrata Roy Sahara Stadium',\n",
    "       'Shaheed Veer Narayan Singh International Stadium',\n",
    "       'JSCA International Stadium Complex', 'Sheikh Zayed Stadium',\n",
    "       'Sharjah Cricket Stadium', 'Dubai International Cricket Stadium',\n",
    "       'Maharashtra Cricket Association Stadium',\n",
    "       'Punjab Cricket Association IS Bindra Stadium, Mohali',\n",
    "       'M.Chinnaswamy Stadium', 'Holkar Cricket Stadium']\n",
    "\n",
    "decision = [0, 1]\n",
    "\n",
    "pipe = pickle.load(open('pipe.pkl','rb'))\n",
    "\n",
    "col1, col2 = st.columns(2)\n",
    "\n",
    "with col1:\n",
    "    batting_team = st.selectbox('Select the batting team', sorted(teams))\n",
    "\n",
    "with col2:\n",
    "    bowling_team = st.selectbox('Select the bowling team', sorted(teams))\n",
    "\n",
    "#     # Validate that batting_team and bowling_team are different\n",
    "#     if bowling_team == batting_team:\n",
    "#         st.warning(\"Bowling team cannot be the same as batting team. Please choose a different team.\")\n",
    "#         st.stop()  # Stop execution if teams are the same\n",
    "\n",
    "target = st.number_input('Target')\n",
    "print(\"Batting Team:\", batting_team)\n",
    "print(\"Bowling Team:\", bowling_team)\n",
    "toss_teams = batting_team + \" vs \" + bowling_team\n"
   ]
  },
  {
   "cell_type": "code",
   "execution_count": null,
   "id": "ffddbe73",
   "metadata": {},
   "outputs": [],
   "source": []
  }
 ],
 "metadata": {
  "kernelspec": {
   "display_name": "Python 3 (ipykernel)",
   "language": "python",
   "name": "python3"
  },
  "language_info": {
   "codemirror_mode": {
    "name": "ipython",
    "version": 3
   },
   "file_extension": ".py",
   "mimetype": "text/x-python",
   "name": "python",
   "nbconvert_exporter": "python",
   "pygments_lexer": "ipython3",
   "version": "3.11.1"
  }
 },
 "nbformat": 4,
 "nbformat_minor": 5
}
